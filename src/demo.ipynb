{
 "cells": [
  {
   "cell_type": "code",
   "execution_count": null,
   "metadata": {},
   "outputs": [],
   "source": [
    "from __future__ import absolute_import\n",
    "from __future__ import division\n",
    "from __future__ import print_function\n",
    "\n",
    "import _init_paths\n",
    "\n",
    "import os\n",
    "import cv2\n",
    "\n",
    "from opts import opts\n",
    "from detectors.detector_factory import detector_factory"
   ]
  },
  {
   "cell_type": "code",
   "execution_count": null,
   "metadata": {},
   "outputs": [],
   "source": [
    "image_ext = ['jpg', 'jpeg', 'png', 'webp']\n",
    "video_ext = ['mp4', 'mov', 'avi', 'mkv']\n",
    "time_stats = ['tot', 'load', 'pre', 'net', 'dec', 'post', 'merge']\n",
    "\n",
    "def demo(opt):\n",
    "  os.environ['CUDA_VISIBLE_DEVICES'] = opt.gpus_str\n",
    "  opt.debug = max(opt.debug, 1)\n",
    "  Detector = detector_factory[opt.task]\n",
    "  detector = Detector(opt)\n",
    "\n",
    "  if opt.demo == 'webcam' or \\\n",
    "    opt.demo[opt.demo.rfind('.') + 1:].lower() in video_ext:\n",
    "    cam = cv2.VideoCapture(0 if opt.demo == 'webcam' else opt.demo)\n",
    "    detector.pause = False\n",
    "    while True:\n",
    "        _, img = cam.read()\n",
    "        cv2.imshow('input', img)\n",
    "        ret = detector.run(img)\n",
    "        time_str = ''\n",
    "        for stat in time_stats:\n",
    "          time_str = time_str + '{} {:.3f}s |'.format(stat, ret[stat])\n",
    "        print(time_str)\n",
    "        if cv2.waitKey(1) == 27:\n",
    "            return  # esc to quit\n",
    "  else:\n",
    "    if os.path.isdir(opt.demo):\n",
    "      image_names = []\n",
    "      ls = os.listdir(opt.demo)\n",
    "      for file_name in sorted(ls):\n",
    "          ext = file_name[file_name.rfind('.') + 1:].lower()\n",
    "          if ext in image_ext:\n",
    "              image_names.append(os.path.join(opt.demo, file_name))\n",
    "    else:\n",
    "      image_names = [opt.demo]\n",
    "    \n",
    "    for (image_name) in image_names:\n",
    "      ret = detector.run(image_name)\n",
    "      time_str = ''\n",
    "      for stat in time_stats:\n",
    "        time_str = time_str + '{} {:.3f}s |'.format(stat, ret[stat])\n",
    "      print(time_str)\n",
    "if __name__ == '__main__':\n",
    "  opt = opts().init()\n",
    "  demo(opt)"
   ]
  }
 ],
 "metadata": {
  "kernelspec": {
   "display_name": "Python 3",
   "language": "python",
   "name": "python3"
  },
  "language_info": {
   "codemirror_mode": {
    "name": "ipython",
    "version": 3
   },
   "file_extension": ".py",
   "mimetype": "text/x-python",
   "name": "python",
   "nbconvert_exporter": "python",
   "pygments_lexer": "ipython3",
   "version": "3.6.4"
  }
 },
 "nbformat": 4,
 "nbformat_minor": 2
}
